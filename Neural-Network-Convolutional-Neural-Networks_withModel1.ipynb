{
  "cells": [
    {
      "cell_type": "code",
      "execution_count": 1,
      "metadata": {
        "id": "pIqf7OkPMOki"
      },
      "outputs": [],
      "source": [
        "# imports\n",
        "import os\n",
        "import pandas as pd\n",
        "from sklearn.preprocessing import OneHotEncoder, StandardScaler\n",
        "from sklearn.model_selection import train_test_split\n",
        "from torch.utils.data import DataLoader\n",
        "from torchvision import datasets, transforms\n",
        "import torch\n",
        "import seaborn as sns"
      ]
    },
    {
      "cell_type": "code",
      "execution_count": 2,
      "metadata": {
        "id": "vYGJLWZxMOkj"
      },
      "outputs": [],
      "source": [
        "# Loading dataset\n",
        "# path_df = r'C:\\Users\\91951\\Downloads\\dataset.csv'\n",
        "df = pd.read_csv('dataset.csv')"
      ]
    },
    {
      "cell_type": "code",
      "execution_count": 7,
      "metadata": {
        "colab": {
          "base_uri": "https://localhost:8080/",
          "height": 435
        },
        "id": "SYv-GUHf7G6Q",
        "outputId": "392b5672-5b9b-4713-9ee7-16ea95a8dfaf"
      },
      "outputs": [
        {
          "data": {
            "image/png": "[encoded data removed]",
            "text/plain": [
              "<Figure size 640x480 with 2 Axes>"
            ]
          },
          "metadata": {},
          "output_type": "display_data"
        }
      ],
      "source": [
        "\n",
        "sns.heatmap(df.corr())\n",
        "plt.show()"
      ]
    },
    {
      "cell_type": "code",
      "execution_count": 8,
      "metadata": {
        "colab": {
          "base_uri": "https://localhost:8080/"
        },
        "id": "muJ2gq5uMOkj",
        "outputId": "5feff9dd-86c9-4f4f-9e55-6bccb7d7907c"
      },
      "outputs": [
        {
          "data": {
            "text/plain": [
              "f1        0\n",
              "f2        0\n",
              "f3        0\n",
              "f4        0\n",
              "f5        0\n",
              "f6        0\n",
              "f7        0\n",
              "target    0\n",
              "dtype: int64"
            ]
          },
          "execution_count": 8,
          "metadata": {},
          "output_type": "execute_result"
        }
      ],
      "source": [
        "df.isna().sum()  # No empty cells"
      ]
    },
    {
      "cell_type": "code",
      "execution_count": 9,
      "metadata": {
        "colab": {
          "base_uri": "https://localhost:8080/"
        },
        "id": "U26xBvlRMOkj",
        "outputId": "7c36015e-df30-4e7b-e10b-59512fbee945"
      },
      "outputs": [
        {
          "data": {
            "text/plain": [
              "0"
            ]
          },
          "execution_count": 9,
          "metadata": {},
          "output_type": "execute_result"
        }
      ],
      "source": [
        "df.duplicated().sum()  # No duplicates"
      ]
    },
    {
      "cell_type": "code",
      "execution_count": 10,
      "metadata": {
        "colab": {
          "base_uri": "https://localhost:8080/"
        },
        "id": "YjozJqOZMOkj",
        "outputId": "eda1ba1d-f76f-45fa-d11b-b3046cd175ea"
      },
      "outputs": [
        {
          "name": "stdout",
          "output_type": "stream",
          "text": [
            "<class 'pandas.core.frame.DataFrame'>\n",
            "RangeIndex: 766 entries, 0 to 765\n",
            "Data columns (total 8 columns):\n",
            " #   Column  Non-Null Count  Dtype \n",
            "---  ------  --------------  ----- \n",
            " 0   f1      766 non-null    object\n",
            " 1   f2      766 non-null    object\n",
            " 2   f3      766 non-null    int64 \n",
            " 3   f4      766 non-null    object\n",
            " 4   f5      766 non-null    object\n",
            " 5   f6      766 non-null    object\n",
            " 6   f7      766 non-null    object\n",
            " 7   target  766 non-null    int64 \n",
            "dtypes: int64(2), object(6)\n",
            "memory usage: 48.0+ KB\n"
          ]
        }
      ],
      "source": [
        "df.info()"
      ]
    },
    {
      "cell_type": "code",
      "execution_count": 11,
      "metadata": {
        "colab": {
          "base_uri": "https://localhost:8080/"
        },
        "id": "4n3Zy2wsMOkj",
        "outputId": "2412709b-567e-4b6a-9bda-1242e3a46a30"
      },
      "outputs": [
        {
          "data": {
            "text/plain": [
              "f1        1\n",
              "f2        1\n",
              "f3        0\n",
              "f4        1\n",
              "f5        1\n",
              "f6        1\n",
              "f7        1\n",
              "target    0\n",
              "dtype: int64"
            ]
          },
          "execution_count": 11,
          "metadata": {},
          "output_type": "execute_result"
        }
      ],
      "source": [
        "df.apply(lambda x: pd.to_numeric(x, errors='coerce')).isna().sum()  #we can drop Na values or just replace them with mean of the column data"
      ]
    },
    {
      "cell_type": "code",
      "execution_count": 12,
      "metadata": {
        "id": "D1eeFaPNMOkk"
      },
      "outputs": [],
      "source": [
        "df = df.apply(lambda x: pd.to_numeric(x, errors='coerce')).dropna()  #3 rows dropped"
      ]
    },
    {
      "cell_type": "markdown",
      "metadata": {
        "id": "D5VpoFCZMOkk"
      },
      "source": [
        "from sklearn.preprocessing import MinMaxScaler  # useless"
      ]
    },
    {
      "cell_type": "code",
      "execution_count": 13,
      "metadata": {
        "id": "wEvQMMBbMOkk"
      },
      "outputs": [],
      "source": [
        "X = df.drop('target', axis=1).values\n",
        "y = df.target\n",
        "# print(X.dtypes)\n",
        "# print(y.dtypes)\n",
        "\n",
        "# Scale numerical features using StandardScaler\n",
        "scaler = StandardScaler()\n",
        "X = scaler.fit_transform(X)\n",
        "X_train, X_test, y_train, y_test = train_test_split(X, y, test_size=0.2, random_state=42)\n",
        "# print(type(X_train),type(X_test),type(y_train),type(y_test))"
      ]
    },
    {
      "cell_type": "code",
      "execution_count": 218,
      "metadata": {
        "colab": {
          "base_uri": "https://localhost:8080/",
          "height": 435
        },
        "id": "jgmL12MW6-Sc",
        "outputId": "3afa5fda-9de9-4219-9eaf-b475314c719a"
      },
      "outputs": [
        {
          "data": {
            "image/png": "[encoded data removed]",
            "text/plain": [
              "<Figure size 640x480 with 2 Axes>"
            ]
          },
          "metadata": {},
          "output_type": "display_data"
        }
      ],
      "source": [
        "sns.heatmap(df.corr())\n",
        "plt.show()"
      ]
    },
    {
      "cell_type": "code",
      "execution_count": 14,
      "metadata": {
        "colab": {
          "base_uri": "https://localhost:8080/"
        },
        "id": "RwHjEhgVMOkk",
        "outputId": "0dff3300-a65e-4c6a-d831-8796c785c8a2"
      },
      "outputs": [
        {
          "data": {
            "text/plain": [
              "array([[ 0.94148548,  0.25092826, -0.05761952, ...,  0.38756454,\n",
              "         0.8235221 , -0.10314457],\n",
              "       [ 0.34669831,  1.15711521,  0.04529666, ..., -0.69463614,\n",
              "        -0.27850747, -0.80181728],\n",
              "       [-1.14026962,  0.5321587 , -3.55676965, ..., -0.69463614,\n",
              "         0.54484796,  1.38454646],\n",
              "       ...,\n",
              "       [ 1.83366624, -0.62401086,  0.8686261 , ..., -0.69463614,\n",
              "         1.72287957,  1.99588508],\n",
              "       [-1.14026962,  0.62590217, -3.55676965, ..., -0.69463614,\n",
              "         1.31753536, -0.80784032],\n",
              "       [-1.14026962,  0.12593696,  1.38320701, ..., -0.69463614,\n",
              "        -1.20319896, -0.63618367]])"
            ]
          },
          "execution_count": 14,
          "metadata": {},
          "output_type": "execute_result"
        }
      ],
      "source": [
        "X_train"
      ]
    },
    {
      "cell_type": "markdown",
      "metadata": {
        "id": "JfDSlxVmMOkk"
      },
      "source": [
        "# Base model"
      ]
    },
    {
      "cell_type": "code",
      "execution_count": 15,
      "metadata": {
        "colab": {
          "base_uri": "https://localhost:8080/"
        },
        "id": "_xlYtZwrMOkk",
        "outputId": "8e164f4a-8907-4f0a-d517-55e2f088b942"
      },
      "outputs": [
        {
          "name": "stdout",
          "output_type": "stream",
          "text": [
            "Test Accuracy: 0.7368\n"
          ]
        }
      ],
      "source": [
        "import torch.nn as nn\n",
        "\n",
        "class SimpleBinaryClassifier(nn.Module):\n",
        "    def __init__(self):\n",
        "        super(SimpleBinaryClassifier, self).__init__()\n",
        "        self.input_layer = nn.Linear(7, 128)   # input layer to hidden layer 1\n",
        "        self.hidden_layer1 = nn.Linear(128, 128)  # hidden layer 1 to hidden layer 2\n",
        "        self.hidden_layer2 = nn.Linear(128, 64)    # hidden layer 2 to hidden layer 3\n",
        "        self.hidden_layer3 = nn.Linear(64,1) # hidden layer 2 to output layer\n",
        "        self.activation1 = nn.ReLU()          # activation function for hidden layers   (base setup)\n",
        "        self.activation2 = nn.ReLU()          # activation function for hidden layers\n",
        "        self.activation3 = nn.Sigmoid()    # activation function for output layer   (base setup)\n",
        "        \n",
        "    def forward(self, x):\n",
        "        x = self.activation1(self.input_layer(x))\n",
        "        x = self.activation2(self.hidden_layer1(x))\n",
        "        x = self.activation2(self.hidden_layer2(x))\n",
        "        x = self.activation3(self.hidden_layer3(x))\n",
        "        return x\n",
        "\n",
        "import torch.optim as optim\n",
        "from torch.utils.data import DataLoader, TensorDataset\n",
        "\n",
        "\n",
        "train_dataset = TensorDataset(torch.from_numpy(X_train).float(), torch.from_numpy(y_train.values.reshape(-1, 1)).float())\n",
        "test_dataset = TensorDataset(torch.from_numpy(X_test).float(), torch.from_numpy(y_test.values.reshape(-1, 1)).float())\n",
        "train_loader = DataLoader(train_dataset, batch_size=32, shuffle=True)  # batch size tune\n",
        "test_loader = DataLoader(test_dataset, batch_size=32)\n",
        "\n",
        "\n",
        "# Define loss function and optimizer\n",
        "# https://pytorch.org/docs/stable/nn.html#loss-functions\n",
        "model = SimpleBinaryClassifier()\n",
        "criterion = nn.BCELoss()\n",
        "optimizer = optim.SGD(model.parameters(), lr=0.01)  \n",
        "# optimizer = optim.Adam(params=model.parameters(),lr=0.03)     # setup 1 optimizer adam\n",
        "\n",
        "# Train the model\n",
        "epochs = 50\n",
        "for epoch in range(epochs):\n",
        "    model.train()\n",
        "    running_loss = 0.0\n",
        "    for inputs, labels in train_loader:\n",
        "        # Forward pass\n",
        "        outputs = model(inputs)\n",
        "        loss = criterion(outputs, labels)\n",
        "        # Backward and optimize\n",
        "        optimizer.zero_grad()\n",
        "        loss.backward()\n",
        "        optimizer.step()\n",
        "        running_loss += loss.item()\n",
        "    \n",
        "    # Print training loss at each epoch\n",
        "    # print(f'Epoch {epoch+1}/{epochs}, Loss: {running_loss/len(train_loader):.4f}')\n",
        "\n",
        "# Evaluate the model on test data\n",
        "with torch.no_grad():\n",
        "    model.eval()\n",
        "    correct = 0\n",
        "    total = 0\n",
        "    for inputs, labels in test_loader:\n",
        "        # Forward pass\n",
        "        outputs = model(inputs)\n",
        "        predicted_labels = (outputs >= 0.5).int()\n",
        "        total += labels.size(0)\n",
        "        correct += (predicted_labels == labels).sum().item()\n",
        "    accuracy = correct / total\n",
        "    print(f'Test Accuracy: {accuracy:.4f}')\n",
        "\n",
        "# Save the model weights\n",
        "torch.save(model.state_dict(), 'sungjun_abhinav_assignment2_part1.h5')"
      ]
    },
    {
      "attachments": {},
      "cell_type": "markdown",
      "metadata": {
        "id": "_iJtlRiNMOkl"
      },
      "source": [
        "# Dropouts  // model1, model2, model3\n"
      ]
    },
    {
      "cell_type": "code",
      "execution_count": 17,
      "metadata": {
        "colab": {
          "base_uri": "https://localhost:8080/"
        },
        "id": "Y5l97YxqMOkl",
        "outputId": "d7d460b6-15fa-40cf-a026-b3a27015b796"
      },
      "outputs": [
        {
          "name": "stdout",
          "output_type": "stream",
          "text": [
            "Test Accuracy: 0.7500\n",
            "Test Accuracy: 0.7566\n",
            "Test Accuracy: 0.7697\n"
          ]
        }
      ],
      "source": [
        "class SimpleBinaryClassifier(nn.Module):\n",
        "    def __init__(self,dropout):\n",
        "        super(SimpleBinaryClassifier, self).__init__()\n",
        "        self.dropouts = nn.Dropout(dropout)\n",
        "        self.input_layer = nn.Linear(7, 128)   # input layer to hidden layer 1\n",
        "        self.hidden_layer1 = nn.Linear(128, 128)  # hidden layer 1 to hidden layer 2\n",
        "        self.hidden_layer2 = nn.Linear(128, 64)    # hidden layer 2 to hidden layer 3\n",
        "        self.hidden_layer3 = nn.Linear(64,1) # hidden layer 2 to output layer\n",
        "        self.activation1 = nn.ReLU()          # activation function for hidden layers   (base setup)\n",
        "        self.activation2 = nn.ReLU()          # activation function for hidden layers\n",
        "        self.activation3 = nn.Sigmoid()    # activation function for output layer   (base setup)\n",
        "        \n",
        "    def forward(self, x):\n",
        "        x = self.activation1(self.input_layer(x))\n",
        "        x = self.dropouts(x)\n",
        "        x = self.activation2(self.hidden_layer1(x))\n",
        "        x = self.dropouts(x)\n",
        "        x = self.activation2(self.hidden_layer2(x))\n",
        "        x = self.dropouts(x)\n",
        "        x = self.activation3(self.hidden_layer3(x))\n",
        "        return x\n",
        "\n",
        "train_dataset = TensorDataset(torch.from_numpy(X_train).float(), torch.from_numpy(y_train.values.reshape(-1, 1)).float())\n",
        "test_dataset = TensorDataset(torch.from_numpy(X_test).float(), torch.from_numpy(y_test.values.reshape(-1, 1)).float())\n",
        "train_loader = DataLoader(train_dataset, batch_size=32, shuffle=True)  # batch size tune\n",
        "test_loader = DataLoader(test_dataset, batch_size=32)\n",
        "\n",
        "\n",
        "# Define loss function and optimizer\n",
        "# https://pytorch.org/docs/stable/nn.html#loss-functions\n",
        "# model_1 = SimpleBinaryClassifier()\n",
        "# criterion = nn.BCELoss()\n",
        "# optimizer = optim.SGD(model_1.parameters(), lr=0.01)  \n",
        "# optimizer = optim.Adam(params=model.parameters(),lr=0.03)     # setup 1 optimizer adam\n",
        "dropout_rate = [0.1,0.3,0.5]\n",
        "\n",
        "for dropout in dropout_rate:\n",
        "    model_1 = SimpleBinaryClassifier(dropout)\n",
        "    criterion = nn.BCELoss()\n",
        "    optimizer = optim.SGD(model_1.parameters(), lr=0.01)  \n",
        "# Train the model\n",
        "    epochs = 50\n",
        "    for epoch in range(epochs):\n",
        "        model_1.train()\n",
        "        running_loss = 0.0\n",
        "        for inputs, labels in train_loader:\n",
        "            # Forward pass\n",
        "            outputs = model_1(inputs)\n",
        "            loss = criterion(outputs, labels)\n",
        "            # Backward and optimize\n",
        "            optimizer.zero_grad()\n",
        "            loss.backward()\n",
        "            optimizer.step()\n",
        "            running_loss += loss.item()\n",
        "        \n",
        "        # Print training loss at each epoch\n",
        "        # print(f'Epoch {epoch+1}/{epochs}, Loss: {running_loss/len(train_loader):.4f}')\n",
        "\n",
        "    # Evaluate the model on test data\n",
        "    with torch.no_grad():\n",
        "        model_1.eval()\n",
        "        correct = 0\n",
        "        total = 0\n",
        "        for inputs, labels in test_loader:\n",
        "            # Forward pass\n",
        "            outputs = model_1(inputs)\n",
        "            predicted_labels = (outputs >= 0.5).int()\n",
        "            total += labels.size(0)\n",
        "            correct += (predicted_labels == labels).sum().item()\n",
        "        accuracy = correct / total\n",
        "        print(f'Test Accuracy: {accuracy:.4f}')\n"
      ]
    },
    {
      "cell_type": "code",
      "execution_count": null,
      "metadata": {
        "id": "eUYxkLlScxp0"
      },
      "outputs": [],
      "source": [
        "# Save the model weights\n",
        "torch.save(model_1.state_dict(), r'sungjun_abhinav_assignment2_part1.h5')"
      ]
    },
    {
      "cell_type": "markdown",
      "metadata": {
        "id": "F2l_vfTfNoMo"
      },
      "source": [
        "# Activation Function - LeakyRelu\n",
        "# Model_4"
      ]
    },
    {
      "cell_type": "code",
      "execution_count": 144,
      "metadata": {
        "colab": {
          "base_uri": "https://localhost:8080/"
        },
        "id": "onxwfwWlNDep",
        "outputId": "feb5ef26-de3d-4ce2-80ab-9a356209803f"
      },
      "outputs": [
        {
          "name": "stdout",
          "output_type": "stream",
          "text": [
            "Test Accuracy: 0.7763\n"
          ]
        }
      ],
      "source": [
        "class SimpleBinaryClassifier(nn.Module):\n",
        "    def __init__(self):\n",
        "        super(SimpleBinaryClassifier, self).__init__()\n",
        "        self.dropouts = nn.Dropout(0.3)\n",
        "        self.input_layer = nn.Linear(7, 128)   # input layer to hidden layer 1\n",
        "        self.hidden_layer1 = nn.Linear(128, 128)  # hidden layer 1 to hidden layer 2\n",
        "        self.hidden_layer2 = nn.Linear(128, 64)    # hidden layer 2 to hidden layer 3\n",
        "        self.hidden_layer3 = nn.Linear(64,1) # hidden layer 2 to output layer\n",
        "        self.activation1 = nn.LeakyReLU()          # activation function for hidden layers   (base setup)\n",
        "        self.activation2 = nn.LeakyReLU()         # activation function for hidden layers\n",
        "        self.activation3 = nn.Sigmoid()    # activation function for output layer   (base setup)\n",
        "        \n",
        "    def forward(self, x):\n",
        "        x = self.activation1(self.input_layer(x))\n",
        "        x = self.dropouts(x)\n",
        "        x = self.activation2(self.hidden_layer1(x))\n",
        "        x = self.dropouts(x)\n",
        "        x = self.activation2(self.hidden_layer2(x))\n",
        "        x = self.dropouts(x)\n",
        "        x = self.activation3(self.hidden_layer3(x))\n",
        "        return x\n",
        "\n",
        "train_dataset = TensorDataset(torch.from_numpy(X_train).float(), torch.from_numpy(y_train.values.reshape(-1, 1)).float())\n",
        "test_dataset = TensorDataset(torch.from_numpy(X_test).float(), torch.from_numpy(y_test.values.reshape(-1, 1)).float())\n",
        "train_loader = DataLoader(train_dataset, batch_size=32, shuffle=True)  # batch size tune\n",
        "test_loader = DataLoader(test_dataset, batch_size=32)\n",
        "\n",
        "\n",
        "# Define loss function and optimizer\n",
        "# https://pytorch.org/docs/stable/nn.html#loss-functions\n",
        "model_4 = SimpleBinaryClassifier()\n",
        "criterion = nn.BCELoss()\n",
        "optimizer = optim.SGD(model_4.parameters(), lr=0.01)  \n",
        "# optimizer = optim.Adam(params=model.parameters(),lr=0.03)     # setup 1 optimizer adam\n",
        "\n",
        "# Train the model\n",
        "epochs = 50\n",
        "for epoch in range(epochs):\n",
        "    model_4.train()\n",
        "    running_loss = 0.0\n",
        "    for inputs, labels in train_loader:\n",
        "        # Forward pass\n",
        "        outputs = model_4(inputs)\n",
        "        loss = criterion(outputs, labels)\n",
        "        # Backward and optimize\n",
        "        optimizer.zero_grad()\n",
        "        loss.backward()\n",
        "        optimizer.step()\n",
        "        running_loss += loss.item()\n",
        "    \n",
        "    # Print training loss at each epoch\n",
        "    # print(f'Epoch {epoch+1}/{epochs}, Loss: {running_loss/len(train_loader):.4f}')\n",
        "\n",
        "# Evaluate the model on test data\n",
        "with torch.no_grad():\n",
        "    model_4.eval()\n",
        "    correct = 0\n",
        "    total = 0\n",
        "    for inputs, labels in test_loader:\n",
        "        # Forward pass\n",
        "        outputs = model_4(inputs)\n",
        "        predicted_labels = (outputs >= 0.5).int()\n",
        "        total += labels.size(0)\n",
        "        correct += (predicted_labels == labels).sum().item()\n",
        "    accuracy = correct / total\n",
        "    print(f'Test Accuracy: {accuracy:.4f}')\n",
        "\n"
      ]
    },
    {
      "cell_type": "code",
      "execution_count": 145,
      "metadata": {
        "id": "5t-bTeH4c2_f"
      },
      "outputs": [],
      "source": [
        "# Save the model weights\n",
        "torch.save(model_4.state_dict(), r'sungjun_abhinav_assignment2_part2.h5')"
      ]
    },
    {
      "cell_type": "markdown",
      "metadata": {
        "id": "lWp7KAkyOiE4"
      },
      "source": [
        "# Activation Function - Tanh\n",
        "# Model_5"
      ]
    },
    {
      "cell_type": "code",
      "execution_count": 147,
      "metadata": {
        "colab": {
          "base_uri": "https://localhost:8080/"
        },
        "id": "9P7R-V7_aDZF",
        "outputId": "b2f6fbd7-3ef0-40b1-dc63-03d45a14f743"
      },
      "outputs": [
        {
          "name": "stdout",
          "output_type": "stream",
          "text": [
            "Test Accuracy: 0.7500\n"
          ]
        }
      ],
      "source": [
        "class SimpleBinaryClassifier(nn.Module):\n",
        "    def __init__(self):\n",
        "        super(SimpleBinaryClassifier, self).__init__()\n",
        "        self.dropouts = nn.Dropout(0.3)\n",
        "        self.input_layer = nn.Linear(7, 128)   # input layer to hidden layer 1\n",
        "        self.hidden_layer1 = nn.Linear(128, 128)  # hidden layer 1 to hidden layer 2\n",
        "        self.hidden_layer2 = nn.Linear(128, 64)    # hidden layer 2 to hidden layer 3\n",
        "        self.hidden_layer3 = nn.Linear(64,1) # hidden layer 2 to output layer\n",
        "        self.activation1 = nn.Tanh()          # activation function for hidden layers   (base setup)\n",
        "        self.activation2 = nn.Tanh()         # activation function for hidden layers\n",
        "        self.activation3 = nn.Sigmoid()    # activation function for output layer   (base setup)\n",
        "        \n",
        "    def forward(self, x):\n",
        "        x = self.activation1(self.input_layer(x))\n",
        "        x = self.dropouts(x)\n",
        "        x = self.activation2(self.hidden_layer1(x))\n",
        "        x = self.dropouts(x)\n",
        "        x = self.activation2(self.hidden_layer2(x))\n",
        "        x = self.dropouts(x)\n",
        "        x = self.activation3(self.hidden_layer3(x))\n",
        "        return x\n",
        "\n",
        "train_dataset = TensorDataset(torch.from_numpy(X_train).float(), torch.from_numpy(y_train.values.reshape(-1, 1)).float())\n",
        "test_dataset = TensorDataset(torch.from_numpy(X_test).float(), torch.from_numpy(y_test.values.reshape(-1, 1)).float())\n",
        "train_loader = DataLoader(train_dataset, batch_size=32, shuffle=True)  # batch size tune\n",
        "test_loader = DataLoader(test_dataset, batch_size=32)\n",
        "\n",
        "\n",
        "# Define loss function and optimizer\n",
        "# https://pytorch.org/docs/stable/nn.html#loss-functions\n",
        "model_5 = SimpleBinaryClassifier()\n",
        "criterion = nn.BCELoss()\n",
        "optimizer = optim.SGD(model_5.parameters(), lr=0.01)  \n",
        "# optimizer = optim.Adam(params=model.parameters(),lr=0.03)     # setup 1 optimizer adam\n",
        "\n",
        "# Train the model\n",
        "epochs = 50\n",
        "for epoch in range(epochs):\n",
        "    model_5.train()\n",
        "    running_loss = 0.0\n",
        "    for inputs, labels in train_loader:\n",
        "        # Forward pass\n",
        "        outputs = model_5(inputs)\n",
        "        loss = criterion(outputs, labels)\n",
        "        # Backward and optimize\n",
        "        optimizer.zero_grad()\n",
        "        loss.backward()\n",
        "        optimizer.step()\n",
        "        running_loss += loss.item()\n",
        "    \n",
        "    # Print training loss at each epoch\n",
        "    # print(f'Epoch {epoch+1}/{epochs}, Loss: {running_loss/len(train_loader):.4f}')\n",
        "\n",
        "# Evaluate the model on test data\n",
        "with torch.no_grad():\n",
        "    model_5.eval()\n",
        "    correct = 0\n",
        "    total = 0\n",
        "    for inputs, labels in test_loader:\n",
        "        # Forward pass\n",
        "        outputs = model_5(inputs)\n",
        "        predicted_labels = (outputs >= 0.5).int()\n",
        "        total += labels.size(0)\n",
        "        correct += (predicted_labels == labels).sum().item()\n",
        "    accuracy = correct / total\n",
        "    print(f'Test Accuracy: {accuracy:.4f}')\n",
        "\n"
      ]
    },
    {
      "cell_type": "code",
      "execution_count": null,
      "metadata": {
        "id": "1Z9UE-xNc5Su"
      },
      "outputs": [],
      "source": [
        "# Save the model weights\n",
        "torch.save(model_5.state_dict(), r'sungjun_abhinav_assignment2_part1.h5')"
      ]
    },
    {
      "cell_type": "markdown",
      "metadata": {
        "id": "woq1XY5BaDbs"
      },
      "source": [
        "# Activation Function - ELU\n",
        "# Model_6"
      ]
    },
    {
      "cell_type": "code",
      "execution_count": 212,
      "metadata": {
        "colab": {
          "base_uri": "https://localhost:8080/"
        },
        "id": "MCoX5intaDem",
        "outputId": "96767672-1991-4553-e12d-b85d422c9af5"
      },
      "outputs": [
        {
          "name": "stdout",
          "output_type": "stream",
          "text": [
            "Test Accuracy: 0.7368\n"
          ]
        }
      ],
      "source": [
        "class SimpleBinaryClassifier(nn.Module):\n",
        "    def __init__(self):\n",
        "        super(SimpleBinaryClassifier, self).__init__()\n",
        "        self.dropouts = nn.Dropout(0.3)\n",
        "        self.input_layer = nn.Linear(7, 128)   # input layer to hidden layer 1\n",
        "        self.hidden_layer1 = nn.Linear(128, 128)  # hidden layer 1 to hidden layer 2\n",
        "        self.hidden_layer2 = nn.Linear(128, 64)    # hidden layer 2 to hidden layer 3\n",
        "        self.hidden_layer3 = nn.Linear(64,1) # hidden layer 2 to output layer\n",
        "        self.activation1 = nn.ELU()          # activation function for hidden layers   (base setup)\n",
        "        self.activation2 = nn.ELU()        # activation function for hidden layers\n",
        "        self.activation3 = nn.Sigmoid()    # activation function for output layer   (base setup)\n",
        "        \n",
        "    def forward(self, x):\n",
        "        x = self.activation1(self.input_layer(x))\n",
        "        x = self.dropouts(x)\n",
        "        x = self.activation2(self.hidden_layer1(x))\n",
        "        x = self.dropouts(x)\n",
        "        x = self.activation2(self.hidden_layer2(x))\n",
        "        x = self.dropouts(x)\n",
        "        x = self.activation3(self.hidden_layer3(x))\n",
        "        return x\n",
        "\n",
        "train_dataset = TensorDataset(torch.from_numpy(X_train).float(), torch.from_numpy(y_train.values.reshape(-1, 1)).float())\n",
        "test_dataset = TensorDataset(torch.from_numpy(X_test).float(), torch.from_numpy(y_test.values.reshape(-1, 1)).float())\n",
        "train_loader = DataLoader(train_dataset, batch_size=32, shuffle=True)  # batch size tune\n",
        "test_loader = DataLoader(test_dataset, batch_size=32)\n",
        "\n",
        "\n",
        "# Define loss function and optimizer\n",
        "# https://pytorch.org/docs/stable/nn.html#loss-functions\n",
        "model_6 = SimpleBinaryClassifier()\n",
        "criterion = nn.BCELoss()\n",
        "optimizer = optim.SGD(model_6.parameters(), lr=0.01)  \n",
        "\n",
        "# Train the model\n",
        "epochs = 50\n",
        "for epoch in range(epochs):\n",
        "    model_6.train()\n",
        "    running_loss = 0.0\n",
        "    for inputs, labels in train_loader:\n",
        "        # Forward pass\n",
        "        outputs = model_6(inputs)\n",
        "        loss = criterion(outputs, labels)\n",
        "        # Backward and optimize\n",
        "        optimizer.zero_grad()\n",
        "        loss.backward()\n",
        "        optimizer.step()\n",
        "        running_loss += loss.item()\n",
        "    \n",
        "    # Print training loss at each epoch\n",
        "    # print(f'Epoch {epoch+1}/{epochs}, Loss: {running_loss/len(train_loader):.4f}')\n",
        "\n",
        "# Evaluate the model on test data\n",
        "with torch.no_grad():\n",
        "    model_6.eval()\n",
        "    correct = 0\n",
        "    total = 0\n",
        "    for inputs, labels in test_loader:\n",
        "        # Forward pass\n",
        "        outputs = model_6(inputs)\n",
        "        predicted_labels = (outputs >= 0.5).int()\n",
        "        total += labels.size(0)\n",
        "        correct += (predicted_labels == labels).sum().item()\n",
        "    accuracy = correct / total\n",
        "    print(f'Test Accuracy: {accuracy:.4f}')\n",
        "\n"
      ]
    },
    {
      "cell_type": "code",
      "execution_count": 75,
      "metadata": {
        "id": "yMTiS6xOc7ZE"
      },
      "outputs": [],
      "source": [
        "# Save the model weights\n",
        "torch.save(model_6.state_dict(), r'sungjun_abhinav_assignment2_part1.h5')"
      ]
    },
    {
      "cell_type": "markdown",
      "metadata": {
        "id": "I682NkQhdbo2"
      },
      "source": [
        "# Optimizer Adams\n",
        "# Model_7"
      ]
    },
    {
      "cell_type": "code",
      "execution_count": 153,
      "metadata": {
        "colab": {
          "base_uri": "https://localhost:8080/"
        },
        "id": "4eRTjFqVdeSl",
        "outputId": "f836d4ad-f007-41dd-e6cd-2e0b0b9a1aa5"
      },
      "outputs": [
        {
          "name": "stdout",
          "output_type": "stream",
          "text": [
            "Test Accuracy: 0.7368\n"
          ]
        }
      ],
      "source": [
        "class SimpleBinaryClassifier(nn.Module):\n",
        "    def __init__(self):\n",
        "        super(SimpleBinaryClassifier, self).__init__()\n",
        "        self.dropouts = nn.Dropout(0.3)\n",
        "        self.input_layer = nn.Linear(7, 128)   # input layer to hidden layer 1\n",
        "        self.hidden_layer1 = nn.Linear(128, 128)  # hidden layer 1 to hidden layer 2\n",
        "        self.hidden_layer2 = nn.Linear(128, 64)    # hidden layer 2 to hidden layer 3\n",
        "        self.hidden_layer3 = nn.Linear(64,1) # hidden layer 2 to output layer\n",
        "        self.activation1 = nn.ELU()          # activation function for hidden layers   (base setup)\n",
        "        self.activation2 = nn.ELU()        # activation function for hidden layers\n",
        "        self.activation3 = nn.Sigmoid()    # activation function for output layer   (base setup)\n",
        "        \n",
        "    def forward(self, x):\n",
        "        x = self.activation1(self.input_layer(x))\n",
        "        x = self.dropouts(x)\n",
        "        x = self.activation2(self.hidden_layer1(x))\n",
        "        x = self.dropouts(x)\n",
        "        x = self.activation2(self.hidden_layer2(x))\n",
        "        x = self.dropouts(x)\n",
        "        x = self.activation3(self.hidden_layer3(x))\n",
        "        return x\n",
        "\n",
        "train_dataset = TensorDataset(torch.from_numpy(X_train).float(), torch.from_numpy(y_train.values.reshape(-1, 1)).float())\n",
        "test_dataset = TensorDataset(torch.from_numpy(X_test).float(), torch.from_numpy(y_test.values.reshape(-1, 1)).float())\n",
        "train_loader = DataLoader(train_dataset, batch_size=32, shuffle=True)  # batch size tune\n",
        "test_loader = DataLoader(test_dataset, batch_size=32)\n",
        "\n",
        "\n",
        "# Define loss function and optimizer\n",
        "# https://pytorch.org/docs/stable/nn.html#loss-functions\n",
        "model_7 = SimpleBinaryClassifier()\n",
        "criterion = nn.BCELoss()\n",
        "optimizer = optim.Adam(params=model_7.parameters(),lr=0.001)\n",
        "\n",
        "# Train the model\n",
        "epochs = 50\n",
        "for epoch in range(epochs):\n",
        "    model_7.train()\n",
        "    running_loss = 0.0\n",
        "    for inputs, labels in train_loader:\n",
        "        # Forward pass\n",
        "        outputs = model_7(inputs)\n",
        "        loss = criterion(outputs, labels)\n",
        "        # Backward and optimize\n",
        "        optimizer.zero_grad()\n",
        "        loss.backward()\n",
        "        optimizer.step()\n",
        "        running_loss += loss.item()\n",
        "    \n",
        "    # Print training loss at each epoch\n",
        "    # print(f'Epoch {epoch+1}/{epochs}, Loss: {running_loss/len(train_loader):.4f}')\n",
        "\n",
        "# Evaluate the model on test data\n",
        "with torch.no_grad():\n",
        "    model_7.eval()\n",
        "    correct = 0\n",
        "    total = 0\n",
        "    for inputs, labels in test_loader:\n",
        "        # Forward pass\n",
        "        outputs = model_7(inputs)\n",
        "        predicted_labels = (outputs >= 0.5).int()\n",
        "        total += labels.size(0)\n",
        "        correct += (predicted_labels == labels).sum().item()\n",
        "    accuracy = correct / total\n",
        "    print(f'Test Accuracy: {accuracy:.4f}')\n",
        "\n"
      ]
    },
    {
      "cell_type": "code",
      "execution_count": null,
      "metadata": {
        "id": "yhPIO2ZedeX6"
      },
      "outputs": [],
      "source": [
        "# Save the model weights\n",
        "torch.save(model_7.state_dict(), r'sungjun_abhinav_assignment2_part1.h5')"
      ]
    },
    {
      "cell_type": "markdown",
      "metadata": {
        "id": "cbfQX6ICepkn"
      },
      "source": [
        "# Optimizer - Adagrad\n",
        "# Model_8"
      ]
    },
    {
      "cell_type": "code",
      "execution_count": 209,
      "metadata": {
        "colab": {
          "base_uri": "https://localhost:8080/"
        },
        "id": "AVo_3quSeoFO",
        "outputId": "c258731f-d567-4beb-9da0-daacb36de20b"
      },
      "outputs": [
        {
          "name": "stdout",
          "output_type": "stream",
          "text": [
            "Test Accuracy: 0.7434\n"
          ]
        }
      ],
      "source": [
        "class SimpleBinaryClassifier(nn.Module):\n",
        "    def __init__(self):\n",
        "        super(SimpleBinaryClassifier, self).__init__()\n",
        "        self.dropouts = nn.Dropout(0.3)\n",
        "        self.input_layer = nn.Linear(7, 128)   # input layer to hidden layer 1\n",
        "        self.hidden_layer1 = nn.Linear(128, 128)  # hidden layer 1 to hidden layer 2\n",
        "        self.hidden_layer2 = nn.Linear(128, 64)    # hidden layer 2 to hidden layer 3\n",
        "        self.hidden_layer3 = nn.Linear(64,1) # hidden layer 2 to output layer\n",
        "        self.activation1 = nn.ELU()          # activation function for hidden layers   (base setup)\n",
        "        self.activation2 = nn.ELU()        # activation function for hidden layers\n",
        "        self.activation3 = nn.Sigmoid()    # activation function for output layer   (base setup)\n",
        "        \n",
        "    def forward(self, x):\n",
        "        x = self.activation1(self.input_layer(x))\n",
        "        x = self.dropouts(x)\n",
        "        x = self.activation2(self.hidden_layer1(x))\n",
        "        x = self.dropouts(x)\n",
        "        x = self.activation2(self.hidden_layer2(x))\n",
        "        x = self.dropouts(x)\n",
        "        x = self.activation3(self.hidden_layer3(x))\n",
        "        return x\n",
        "\n",
        "train_dataset = TensorDataset(torch.from_numpy(X_train).float(), torch.from_numpy(y_train.values.reshape(-1, 1)).float())\n",
        "test_dataset = TensorDataset(torch.from_numpy(X_test).float(), torch.from_numpy(y_test.values.reshape(-1, 1)).float())\n",
        "train_loader = DataLoader(train_dataset, batch_size=32, shuffle=True)  # batch size tune\n",
        "test_loader = DataLoader(test_dataset, batch_size=32)\n",
        "\n",
        "\n",
        "# Define loss function and optimizer\n",
        "# https://pytorch.org/docs/stable/nn.html#loss-functions\n",
        "model_8 = SimpleBinaryClassifier()\n",
        "criterion = nn.BCELoss()\n",
        "optimizer = optim.Adagrad(params=model_8.parameters(),lr=0.001)\n",
        "\n",
        "# Train the model\n",
        "epochs = 50\n",
        "for epoch in range(epochs):\n",
        "    model_8.train()\n",
        "    running_loss = 0.0\n",
        "    for inputs, labels in train_loader:\n",
        "        # Forward pass\n",
        "        outputs = model_8(inputs)\n",
        "        loss = criterion(outputs, labels)\n",
        "        # Backward and optimize\n",
        "        optimizer.zero_grad()\n",
        "        loss.backward()\n",
        "        optimizer.step()\n",
        "        running_loss += loss.item()\n",
        "    \n",
        "    # Print training loss at each epoch\n",
        "    # print(f'Epoch {epoch+1}/{epochs}, Loss: {running_loss/len(train_loader):.4f}')\n",
        "\n",
        "# Evaluate the model on test data\n",
        "with torch.no_grad():\n",
        "    model_8.eval()\n",
        "    correct = 0\n",
        "    total = 0\n",
        "    for inputs, labels in test_loader:\n",
        "        # Forward pass\n",
        "        outputs = model_8(inputs)\n",
        "        predicted_labels = (outputs >= 0.5).int()\n",
        "        total += labels.size(0)\n",
        "        correct += (predicted_labels == labels).sum().item()\n",
        "    accuracy = correct / total\n",
        "    print(f'Test Accuracy: {accuracy:.4f}')\n",
        "\n"
      ]
    },
    {
      "cell_type": "code",
      "execution_count": 85,
      "metadata": {
        "id": "odyvp29qeoIS"
      },
      "outputs": [],
      "source": [
        "# Save the model weights\n",
        "torch.save(model_8.state_dict(), r'sungjun_abhinav_assignment2_part1.h5')"
      ]
    },
    {
      "cell_type": "markdown",
      "metadata": {
        "id": "kKLv-HRSf_gG"
      },
      "source": [
        "# Optimizer - RMSPROP\n",
        "# Model_9"
      ]
    },
    {
      "cell_type": "code",
      "execution_count": 208,
      "metadata": {
        "colab": {
          "base_uri": "https://localhost:8080/"
        },
        "id": "NMNMshvbeoLR",
        "outputId": "b599d170-802d-4dba-e235-10b8fd16e746"
      },
      "outputs": [
        {
          "name": "stdout",
          "output_type": "stream",
          "text": [
            "Test Accuracy: 0.7303\n"
          ]
        }
      ],
      "source": [
        "class SimpleBinaryClassifier(nn.Module):\n",
        "    def __init__(self):\n",
        "        super(SimpleBinaryClassifier, self).__init__()\n",
        "        self.dropouts = nn.Dropout(0.3)\n",
        "        self.input_layer = nn.Linear(7, 128)   # input layer to hidden layer 1\n",
        "        self.hidden_layer1 = nn.Linear(128, 128)  # hidden layer 1 to hidden layer 2\n",
        "        self.hidden_layer2 = nn.Linear(128, 64)    # hidden layer 2 to hidden layer 3\n",
        "        self.hidden_layer3 = nn.Linear(64,1) # hidden layer 2 to output layer\n",
        "        self.activation1 = nn.ELU()          # activation function for hidden layers   (base setup)\n",
        "        self.activation2 = nn.ELU()        # activation function for hidden layers\n",
        "        self.activation3 = nn.Sigmoid()    # activation function for output layer   (base setup)\n",
        "        \n",
        "    def forward(self, x):\n",
        "        x = self.activation1(self.input_layer(x))\n",
        "        x = self.dropouts(x)\n",
        "        x = self.activation2(self.hidden_layer1(x))\n",
        "        x = self.dropouts(x)\n",
        "        x = self.activation2(self.hidden_layer2(x))\n",
        "        x = self.dropouts(x)\n",
        "        x = self.activation3(self.hidden_layer3(x))\n",
        "        return x\n",
        "\n",
        "train_dataset = TensorDataset(torch.from_numpy(X_train).float(), torch.from_numpy(y_train.values.reshape(-1, 1)).float())\n",
        "test_dataset = TensorDataset(torch.from_numpy(X_test).float(), torch.from_numpy(y_test.values.reshape(-1, 1)).float())\n",
        "train_loader = DataLoader(train_dataset, batch_size=32, shuffle=True)  # batch size tune\n",
        "test_loader = DataLoader(test_dataset, batch_size=32)\n",
        "\n",
        "\n",
        "# Define loss function and optimizer\n",
        "# https://pytorch.org/docs/stable/nn.html#loss-functions\n",
        "model_9 = SimpleBinaryClassifier()\n",
        "criterion = nn.BCELoss()\n",
        "optimizer = optim.RMSprop(params=model_9.parameters(),lr=0.1)\n",
        "\n",
        "# Train the model\n",
        "epochs = 50\n",
        "for epoch in range(epochs):\n",
        "    model_9.train()\n",
        "    running_loss = 0.0\n",
        "    for inputs, labels in train_loader:\n",
        "        # Forward pass\n",
        "        outputs = model_9(inputs)\n",
        "        loss = criterion(outputs, labels)\n",
        "        # Backward and optimize\n",
        "        optimizer.zero_grad()\n",
        "        loss.backward()\n",
        "        optimizer.step()\n",
        "        running_loss += loss.item()\n",
        "    \n",
        "    # Print training loss at each epoch\n",
        "    # print(f'Epoch {epoch+1}/{epochs}, Loss: {running_loss/len(train_loader):.4f}')\n",
        "\n",
        "# Evaluate the model on test data\n",
        "with torch.no_grad():\n",
        "    model_9.eval()\n",
        "    correct = 0\n",
        "    total = 0\n",
        "    for inputs, labels in test_loader:\n",
        "        # Forward pass\n",
        "        outputs = model_9(inputs)\n",
        "        predicted_labels = (outputs >= 0.5).int()\n",
        "        total += labels.size(0)\n",
        "        correct += (predicted_labels == labels).sum().item()\n",
        "    accuracy = correct / total\n",
        "    print(f'Test Accuracy: {accuracy:.4f}')\n",
        "\n"
      ]
    },
    {
      "cell_type": "code",
      "execution_count": 91,
      "metadata": {
        "id": "PhIc1VC2gXg9"
      },
      "outputs": [],
      "source": [
        "# Save the model weights\n",
        "torch.save(model_9.state_dict(), r'sungjun_abhinav_assignment2_part1.h5')"
      ]
    },
    {
      "cell_type": "markdown",
      "metadata": {
        "id": "mqCqBHmPgxtu"
      },
      "source": [
        "# Initializer - Kaiming Initialization \n",
        "# Model_10"
      ]
    },
    {
      "cell_type": "code",
      "execution_count": 168,
      "metadata": {
        "colab": {
          "base_uri": "https://localhost:8080/"
        },
        "id": "rsqmCK0qgvoF",
        "outputId": "7b762e3e-ee90-46f6-9f72-1093aa7e4403"
      },
      "outputs": [
        {
          "name": "stdout",
          "output_type": "stream",
          "text": [
            "Test Accuracy: 0.7566\n"
          ]
        }
      ],
      "source": [
        "class SimpleBinaryClassifier(nn.Module):\n",
        "    def __init__(self):\n",
        "        super(SimpleBinaryClassifier, self).__init__()\n",
        "        self.dropouts = nn.Dropout(0.3)\n",
        "        self.input_layer = nn.Linear(7, 128)   # input layer to hidden layer 1\n",
        "        self.hidden_layer1 = nn.Linear(128, 128)  # hidden layer 1 to hidden layer 2\n",
        "        self.hidden_layer2 = nn.Linear(128, 64)    # hidden layer 2 to hidden layer 3\n",
        "        self.hidden_layer3 = nn.Linear(64,1) # hidden layer 2 to output layer\n",
        "        self.activation1 = nn.ELU()          # activation function for hidden layers   (base setup)\n",
        "        self.activation2 = nn.ELU()        # activation function for hidden layers\n",
        "        self.activation3 = nn.Sigmoid()    # activation function for output layer   (base setup)\n",
        "        # weights initiallization \n",
        "        nn.init.kaiming_normal_(self.input_layer.weight)\n",
        "        nn.init.kaiming_normal_(self.hidden_layer1.weight)\n",
        "        nn.init.kaiming_normal_(self.hidden_layer2.weight)\n",
        "        nn.init.kaiming_normal_(self.hidden_layer3.weight)\n",
        "        \n",
        "    def forward(self, x):\n",
        "        x = self.activation1(self.input_layer(x))\n",
        "        x = self.dropouts(x)\n",
        "        x = self.activation2(self.hidden_layer1(x))\n",
        "        x = self.dropouts(x)\n",
        "        x = self.activation2(self.hidden_layer2(x))\n",
        "        x = self.dropouts(x)\n",
        "        x = self.activation3(self.hidden_layer3(x))\n",
        "        return x\n",
        "\n",
        "train_dataset = TensorDataset(torch.from_numpy(X_train).float(), torch.from_numpy(y_train.values.reshape(-1, 1)).float())\n",
        "test_dataset = TensorDataset(torch.from_numpy(X_test).float(), torch.from_numpy(y_test.values.reshape(-1, 1)).float())\n",
        "train_loader = DataLoader(train_dataset, batch_size=32, shuffle=True)  # batch size tune\n",
        "test_loader = DataLoader(test_dataset, batch_size=32)\n",
        "\n",
        "\n",
        "# Define loss function and optimizer\n",
        "# https://pytorch.org/docs/stable/nn.html#loss-functions\n",
        "model_10 = SimpleBinaryClassifier()\n",
        "criterion = nn.BCELoss()\n",
        "optimizer = optim.Adam(params=model_10.parameters(),lr=0.001)\n",
        "\n",
        "# Train the model\n",
        "epochs = 50\n",
        "for epoch in range(epochs):\n",
        "    model_10.train()\n",
        "    running_loss = 0.0\n",
        "    for inputs, labels in train_loader:\n",
        "        # Forward pass\n",
        "        outputs = model_10(inputs)\n",
        "        loss = criterion(outputs, labels)\n",
        "        # Backward and optimize\n",
        "        optimizer.zero_grad()\n",
        "        loss.backward()\n",
        "        optimizer.step()\n",
        "        running_loss += loss.item()\n",
        "    \n",
        "    # Print training loss at each epoch\n",
        "    # print(f'Epoch {epoch+1}/{epochs}, Loss: {running_loss/len(train_loader):.4f}')\n",
        "\n",
        "# Evaluate the model on test data\n",
        "with torch.no_grad():\n",
        "    model_10.eval()\n",
        "    correct = 0\n",
        "    total = 0\n",
        "    for inputs, labels in test_loader:\n",
        "        # Forward pass\n",
        "        outputs = model_10(inputs)\n",
        "        predicted_labels = (outputs >= 0.5).int()\n",
        "        total += labels.size(0)\n",
        "        correct += (predicted_labels == labels).sum().item()\n",
        "    accuracy = correct / total\n",
        "    print(f'Test Accuracy: {accuracy:.4f}')\n",
        "\n"
      ]
    },
    {
      "cell_type": "code",
      "execution_count": 94,
      "metadata": {
        "id": "T_eGqHCvizF6"
      },
      "outputs": [],
      "source": [
        "# Save the model weights\n",
        "torch.save(model_10.state_dict(), r'sungjun_abhinav_assignment2_part1.h5')"
      ]
    },
    {
      "cell_type": "markdown",
      "metadata": {
        "id": "EQv_hyfujH2c"
      },
      "source": [
        "# Initializer - weights zeros\n",
        "# Model_11"
      ]
    },
    {
      "cell_type": "code",
      "execution_count": 204,
      "metadata": {
        "colab": {
          "base_uri": "https://localhost:8080/"
        },
        "id": "aLCG7eIEjGZs",
        "outputId": "5e557b45-f944-4821-dcd4-08efa5820afc"
      },
      "outputs": [
        {
          "name": "stdout",
          "output_type": "stream",
          "text": [
            "Test Accuracy: 0.7434\n"
          ]
        }
      ],
      "source": [
        "class SimpleBinaryClassifier(nn.Module):\n",
        "    def __init__(self):\n",
        "        super(SimpleBinaryClassifier, self).__init__()\n",
        "        self.dropouts = nn.Dropout(0.3)\n",
        "        self.input_layer = nn.Linear(7, 128)   # input layer to hidden layer 1\n",
        "        self.hidden_layer1 = nn.Linear(128, 128)  # hidden layer 1 to hidden layer 2\n",
        "        self.hidden_layer2 = nn.Linear(128, 64)    # hidden layer 2 to hidden layer 3\n",
        "        self.hidden_layer3 = nn.Linear(64,1) # hidden layer 2 to output layer\n",
        "        self.activation1 = nn.ELU()          # activation function for hidden layers   (base setup)\n",
        "        self.activation2 = nn.ELU()        # activation function for hidden layers\n",
        "        self.activation3 = nn.Sigmoid()    # activation function for output layer   (base setup)\n",
        "        # weights initiallization \n",
        "        nn.init.zeros_(self.input_layer.weight)\n",
        "        nn.init.zeros_(self.hidden_layer1.weight)\n",
        "        nn.init.zeros_(self.hidden_layer2.weight)\n",
        "        nn.init.zeros_(self.hidden_layer3.weight)\n",
        "        \n",
        "    def forward(self, x):\n",
        "        x = self.activation1(self.input_layer(x))\n",
        "        x = self.dropouts(x)\n",
        "        x = self.activation2(self.hidden_layer1(x))\n",
        "        x = self.dropouts(x)\n",
        "        x = self.activation2(self.hidden_layer2(x))\n",
        "        x = self.dropouts(x)\n",
        "        x = self.activation3(self.hidden_layer3(x))\n",
        "        return x\n",
        "\n",
        "train_dataset = TensorDataset(torch.from_numpy(X_train).float(), torch.from_numpy(y_train.values.reshape(-1, 1)).float())\n",
        "test_dataset = TensorDataset(torch.from_numpy(X_test).float(), torch.from_numpy(y_test.values.reshape(-1, 1)).float())\n",
        "train_loader = DataLoader(train_dataset, batch_size=32, shuffle=True)  # batch size tune\n",
        "test_loader = DataLoader(test_dataset, batch_size=32)\n",
        "\n",
        "\n",
        "# Define loss function and optimizer\n",
        "# https://pytorch.org/docs/stable/nn.html#loss-functions\n",
        "model_11 = SimpleBinaryClassifier()\n",
        "criterion = nn.BCELoss()\n",
        "optimizer = optim.Adam(params=model_11.parameters(),lr=0.001)\n",
        "\n",
        "# Train the model\n",
        "epochs = 50\n",
        "for epoch in range(epochs):\n",
        "    model_11.train()\n",
        "    running_loss = 0.0\n",
        "    for inputs, labels in train_loader:\n",
        "        # Forward pass\n",
        "        outputs = model_11(inputs)\n",
        "        loss = criterion(outputs, labels)\n",
        "        # Backward and optimize\n",
        "        optimizer.zero_grad()\n",
        "        loss.backward()\n",
        "        optimizer.step()\n",
        "        running_loss += loss.item()\n",
        "    \n",
        "    # Print training loss at each epoch\n",
        "    # print(f'Epoch {epoch+1}/{epochs}, Loss: {running_loss/len(train_loader):.4f}')\n",
        "\n",
        "# Evaluate the model on test data\n",
        "with torch.no_grad():\n",
        "    model_11.eval()\n",
        "    correct = 0\n",
        "    total = 0\n",
        "    for inputs, labels in test_loader:\n",
        "        # Forward pass\n",
        "        outputs = model_11(inputs)\n",
        "        predicted_labels = (outputs >= 0.5).int()\n",
        "        total += labels.size(0)\n",
        "        correct += (predicted_labels == labels).sum().item()\n",
        "    accuracy = correct / total\n",
        "    print(f'Test Accuracy: {accuracy:.4f}')\n",
        "\n"
      ]
    },
    {
      "cell_type": "code",
      "execution_count": 96,
      "metadata": {
        "id": "GmPnt3jNkuo8"
      },
      "outputs": [],
      "source": [
        "# Save the model weights\n",
        "torch.save(model_11.state_dict(), r'sungjun_abhinav_assignment2_part1.h5')"
      ]
    },
    {
      "cell_type": "markdown",
      "metadata": {
        "id": "5XvZD63zk9K1"
      },
      "source": [
        "# Initializer - xavier\n",
        "# Model_12"
      ]
    },
    {
      "cell_type": "code",
      "execution_count": 179,
      "metadata": {
        "colab": {
          "base_uri": "https://localhost:8080/"
        },
        "id": "UpXqf0TlkznY",
        "outputId": "2d6bfab8-2430-497b-e3dd-37fa2849643e"
      },
      "outputs": [
        {
          "name": "stdout",
          "output_type": "stream",
          "text": [
            "Test Accuracy: 0.7566\n"
          ]
        }
      ],
      "source": [
        "class SimpleBinaryClassifier(nn.Module):\n",
        "    def __init__(self):\n",
        "        super(SimpleBinaryClassifier, self).__init__()\n",
        "        self.dropouts = nn.Dropout(0.3)\n",
        "        self.input_layer = nn.Linear(7, 128)   # input layer to hidden layer 1\n",
        "        self.hidden_layer1 = nn.Linear(128, 128)  # hidden layer 1 to hidden layer 2\n",
        "        self.hidden_layer2 = nn.Linear(128, 64)    # hidden layer 2 to hidden layer 3\n",
        "        self.hidden_layer3 = nn.Linear(64,1) # hidden layer 2 to output layer\n",
        "        self.activation1 = nn.ELU()          # activation function for hidden layers   (base setup)\n",
        "        self.activation2 = nn.ELU()        # activation function for hidden layers\n",
        "        self.activation3 = nn.Sigmoid()    # activation function for output layer   (base setup)\n",
        "        # weights initiallization \n",
        "        nn.init.xavier_uniform_(self.input_layer.weight)\n",
        "        nn.init.xavier_uniform_(self.hidden_layer1.weight)\n",
        "        nn.init.xavier_uniform_(self.hidden_layer2.weight)\n",
        "        nn.init.xavier_uniform_(self.hidden_layer3.weight)\n",
        "        \n",
        "    def forward(self, x):\n",
        "        x = self.activation1(self.input_layer(x))\n",
        "        x = self.dropouts(x)\n",
        "        x = self.activation2(self.hidden_layer1(x))\n",
        "        x = self.dropouts(x)\n",
        "        x = self.activation2(self.hidden_layer2(x))\n",
        "        x = self.dropouts(x)\n",
        "        x = self.activation3(self.hidden_layer3(x))\n",
        "        return x\n",
        "\n",
        "train_dataset = TensorDataset(torch.from_numpy(X_train).float(), torch.from_numpy(y_train.values.reshape(-1, 1)).float())\n",
        "test_dataset = TensorDataset(torch.from_numpy(X_test).float(), torch.from_numpy(y_test.values.reshape(-1, 1)).float())\n",
        "train_loader = DataLoader(train_dataset, batch_size=32, shuffle=True)  # batch size tune\n",
        "test_loader = DataLoader(test_dataset, batch_size=32)\n",
        "\n",
        "\n",
        "# Define loss function and optimizer\n",
        "# https://pytorch.org/docs/stable/nn.html#loss-functions\n",
        "model_12 = SimpleBinaryClassifier()\n",
        "criterion = nn.BCELoss()\n",
        "optimizer = optim.Adam(params=model_12.parameters(),lr=0.001)\n",
        "\n",
        "# Train the model\n",
        "epochs = 50\n",
        "for epoch in range(epochs):\n",
        "    model_12.train()\n",
        "    running_loss = 0.0\n",
        "    for inputs, labels in train_loader:\n",
        "        # Forward pass\n",
        "        outputs = model_12(inputs)\n",
        "        loss = criterion(outputs, labels)\n",
        "        # Backward and optimize\n",
        "        optimizer.zero_grad()\n",
        "        loss.backward()\n",
        "        optimizer.step()\n",
        "        running_loss += loss.item()\n",
        "    \n",
        "    # Print training loss at each epoch\n",
        "    # print(f'Epoch {epoch+1}/{epochs}, Loss: {running_loss/len(train_loader):.4f}')\n",
        "\n",
        "# Evaluate the model on test data\n",
        "with torch.no_grad():\n",
        "    model_12.eval()\n",
        "    correct = 0\n",
        "    total = 0\n",
        "    for inputs, labels in test_loader:\n",
        "        # Forward pass\n",
        "        outputs = model_12(inputs)\n",
        "        predicted_labels = (outputs >= 0.5).int()\n",
        "        total += labels.size(0)\n",
        "        correct += (predicted_labels == labels).sum().item()\n",
        "    accuracy = correct / total\n",
        "    print(f'Test Accuracy: {accuracy:.4f}')"
      ]
    },
    {
      "cell_type": "code",
      "execution_count": 101,
      "metadata": {
        "id": "sSErQn6NoD82"
      },
      "outputs": [],
      "source": [
        "# Save the model weights\n",
        "torch.save(model_12.state_dict(), r'sungjun_abhinav_assignment2_part1.h5')"
      ]
    },
    {
      "cell_type": "markdown",
      "metadata": {
        "id": "ttw7-pqqo1vJ"
      },
      "source": [
        "# Gradient clipping \n",
        "# Model_13"
      ]
    },
    {
      "cell_type": "code",
      "execution_count": 182,
      "metadata": {
        "colab": {
          "base_uri": "https://localhost:8080/"
        },
        "id": "iN_Znlxaq8dA",
        "outputId": "de04d963-5ed9-481c-f435-46fa906c00d9"
      },
      "outputs": [
        {
          "name": "stdout",
          "output_type": "stream",
          "text": [
            "Test Accuracy: 0.7566\n"
          ]
        }
      ],
      "source": [
        "class SimpleBinaryClassifier(nn.Module):\n",
        "    def __init__(self):\n",
        "        super(SimpleBinaryClassifier, self).__init__()\n",
        "        self.dropouts = nn.Dropout(0.3)\n",
        "        self.input_layer = nn.Linear(7, 128)   # input layer to hidden layer 1\n",
        "        self.hidden_layer1 = nn.Linear(128, 128)  # hidden layer 1 to hidden layer 2\n",
        "        self.hidden_layer2 = nn.Linear(128, 64)    # hidden layer 2 to hidden layer 3\n",
        "        self.hidden_layer3 = nn.Linear(64,1) # hidden layer 2 to output layer\n",
        "        self.activation1 = nn.ELU()          # activation function for hidden layers   (base setup)\n",
        "        self.activation2 = nn.ELU()        # activation function for hidden layers\n",
        "        self.activation3 = nn.Sigmoid()    # activation function for output layer   (base setup)\n",
        "        # weights initiallization \n",
        "        nn.init.xavier_uniform_(self.input_layer.weight)\n",
        "        nn.init.xavier_uniform_(self.hidden_layer1.weight)\n",
        "        nn.init.xavier_uniform_(self.hidden_layer2.weight)\n",
        "        nn.init.xavier_uniform_(self.hidden_layer3.weight)\n",
        "        \n",
        "    def forward(self, x):\n",
        "        x = self.activation1(self.input_layer(x))\n",
        "        x = self.dropouts(x)\n",
        "        x = self.activation2(self.hidden_layer1(x))\n",
        "        x = self.dropouts(x)\n",
        "        x = self.activation2(self.hidden_layer2(x))\n",
        "        x = self.dropouts(x)\n",
        "        x = self.activation3(self.hidden_layer3(x))\n",
        "        return x\n",
        "\n",
        "train_dataset = TensorDataset(torch.from_numpy(X_train).float(), torch.from_numpy(y_train.values.reshape(-1, 1)).float())\n",
        "test_dataset = TensorDataset(torch.from_numpy(X_test).float(), torch.from_numpy(y_test.values.reshape(-1, 1)).float())\n",
        "train_loader = DataLoader(train_dataset, batch_size=32, shuffle=True)  # batch size tune\n",
        "test_loader = DataLoader(test_dataset, batch_size=32)\n",
        "\n",
        "\n",
        "# Define loss function and optimizer\n",
        "# https://pytorch.org/docs/stable/nn.html#loss-functions\n",
        "model_13 = SimpleBinaryClassifier()\n",
        "criterion = nn.BCELoss()\n",
        "optimizer = optim.Adam(params=model_13.parameters(),lr=0.001)\n",
        "\n",
        "# Train the model\n",
        "epochs = 50\n",
        "for epoch in range(epochs):\n",
        "    model_13.train()\n",
        "    running_loss = 0.0\n",
        "    for inputs, labels in train_loader:\n",
        "        # Forward pass\n",
        "        outputs = model_13(inputs)\n",
        "        loss = criterion(outputs, labels)\n",
        "        # Backward and optimize\n",
        "        optimizer.zero_grad()\n",
        "        loss.backward()\n",
        "        nn.utils.clip_grad_norm_(model.parameters(), max_norm=1.0)  #gradient clipping \n",
        "        optimizer.step()\n",
        "        running_loss += loss.item()\n",
        "    \n",
        "    # Print training loss at each epoch\n",
        "    # print(f'Epoch {epoch+1}/{epochs}, Loss: {running_loss/len(train_loader):.4f}')\n",
        "\n",
        "# Evaluate the model on test data\n",
        "with torch.no_grad():\n",
        "    model_13.eval()\n",
        "    correct = 0\n",
        "    total = 0\n",
        "    for inputs, labels in test_loader:\n",
        "        # Forward pass\n",
        "        outputs = model_13(inputs)\n",
        "        predicted_labels = (outputs >= 0.5).int()\n",
        "        total += labels.size(0)\n",
        "        correct += (predicted_labels == labels).sum().item()\n",
        "    accuracy = correct / total\n",
        "    print(f'Test Accuracy: {accuracy:.4f}')"
      ]
    },
    {
      "cell_type": "code",
      "execution_count": 103,
      "metadata": {
        "id": "Y1YXD4tXr5-V"
      },
      "outputs": [],
      "source": [
        "# Save the model weights\n",
        "torch.save(model_13.state_dict(), r'sungjun_abhinav_assignment2_part1.h5')"
      ]
    },
    {
      "cell_type": "markdown",
      "metadata": {
        "id": "tv44vR0wsXSb"
      },
      "source": [
        "# Batch Normalization \n",
        "# Model_14"
      ]
    },
    {
      "cell_type": "code",
      "execution_count": 186,
      "metadata": {
        "colab": {
          "base_uri": "https://localhost:8080/"
        },
        "id": "iOsNGtGwr_oO",
        "outputId": "4efd614e-da36-4458-e84b-fc25eaa5c9eb"
      },
      "outputs": [
        {
          "name": "stdout",
          "output_type": "stream",
          "text": [
            "Test Accuracy: 0.7632\n"
          ]
        }
      ],
      "source": [
        "class SimpleBinaryClassifier(nn.Module):\n",
        "    def __init__(self):\n",
        "        super(SimpleBinaryClassifier, self).__init__()\n",
        "        self.dropouts = nn.Dropout(0.3)\n",
        "        self.input_layer = nn.Linear(7, 128)   # input layer to hidden layer 1\n",
        "        self.batch1 = nn.BatchNorm1d(128)\n",
        "        self.hidden_layer1 = nn.Linear(128, 128)  # hidden layer 1 to hidden layer 2\n",
        "        self.batch2 = nn.BatchNorm1d(128)\n",
        "        self.hidden_layer2 = nn.Linear(128, 64)    # hidden layer 2 to hidden layer 3\n",
        "        self.batch3 = nn.BatchNorm1d(64)\n",
        "        self.hidden_layer3 = nn.Linear(64,1) # hidden layer 2 to output layer\n",
        "        self.activation1 = nn.ELU()          # activation function for hidden layers   (base setup)\n",
        "        self.activation2 = nn.ELU()        # activation function for hidden layers\n",
        "        self.activation3 = nn.Sigmoid()    # activation function for output layer   (base setup)\n",
        "        # weights initiallization \n",
        "        nn.init.xavier_uniform_(self.input_layer.weight)\n",
        "        nn.init.xavier_uniform_(self.hidden_layer1.weight)\n",
        "        nn.init.xavier_uniform_(self.hidden_layer2.weight)\n",
        "        nn.init.xavier_uniform_(self.hidden_layer3.weight)\n",
        "        \n",
        "    def forward(self, x):\n",
        "        x = self.activation1(self.input_layer(x))\n",
        "        x = self.batch1(x)\n",
        "        x = self.dropouts(x)\n",
        "        x = self.activation2(self.hidden_layer1(x))\n",
        "        x = self.batch2(x)\n",
        "        x = self.dropouts(x)\n",
        "        x = self.activation2(self.hidden_layer2(x))\n",
        "        x = self.batch3(x)\n",
        "        x = self.dropouts(x)\n",
        "        x = self.activation3(self.hidden_layer3(x))\n",
        "        return x\n",
        "\n",
        "train_dataset = TensorDataset(torch.from_numpy(X_train).float(), torch.from_numpy(y_train.values.reshape(-1, 1)).float())\n",
        "test_dataset = TensorDataset(torch.from_numpy(X_test).float(), torch.from_numpy(y_test.values.reshape(-1, 1)).float())\n",
        "train_loader = DataLoader(train_dataset, batch_size=32, shuffle=True)  # batch size tune\n",
        "test_loader = DataLoader(test_dataset, batch_size=32)\n",
        "\n",
        "\n",
        "# Define loss function and optimizer\n",
        "# https://pytorch.org/docs/stable/nn.html#loss-functions\n",
        "model_14 = SimpleBinaryClassifier()\n",
        "criterion = nn.BCELoss()\n",
        "optimizer = optim.Adam(params=model_14.parameters(),lr=0.001)\n",
        "\n",
        "# Train the model\n",
        "epochs = 50\n",
        "for epoch in range(epochs):\n",
        "    model_14.train()\n",
        "    running_loss = 0.0\n",
        "    for inputs, labels in train_loader:\n",
        "        # Forward pass\n",
        "        outputs = model_14(inputs)\n",
        "        loss = criterion(outputs, labels)\n",
        "        # Backward and optimize\n",
        "        optimizer.zero_grad()\n",
        "        loss.backward()\n",
        "        # nn.utils.clip_grad_norm_(model.parameters(), max_norm=1.0)  #gradient clipping \n",
        "\n",
        "        optimizer.step()\n",
        "        running_loss += loss.item()\n",
        "    \n",
        "    # Print training loss at each epoch\n",
        "    # print(f'Epoch {epoch+1}/{epochs}, Loss: {running_loss/len(train_loader):.4f}')\n",
        "\n",
        "# Evaluate the model on test data\n",
        "with torch.no_grad():\n",
        "    model_14.eval()\n",
        "    correct = 0\n",
        "    total = 0\n",
        "    for inputs, labels in test_loader:\n",
        "        # Forward pass\n",
        "        outputs = model_14(inputs)\n",
        "        predicted_labels = (outputs >= 0.5).int()\n",
        "        total += labels.size(0)\n",
        "        correct += (predicted_labels == labels).sum().item()\n",
        "    accuracy = correct / total\n",
        "    print(f'Test Accuracy: {accuracy:.4f}')"
      ]
    },
    {
      "cell_type": "code",
      "execution_count": 107,
      "metadata": {
        "id": "T6p7Ko2ptWPN"
      },
      "outputs": [],
      "source": [
        "# Save the model weights\n",
        "torch.save(model_14.state_dict(), r'sungjun_abhinav_assignment2_part1.h5')"
      ]
    },
    {
      "cell_type": "markdown",
      "metadata": {
        "id": "TKH7xCEkuBs8"
      },
      "source": [
        "# Learning rate scheduler\n",
        "# Model_15"
      ]
    },
    {
      "cell_type": "code",
      "execution_count": 189,
      "metadata": {
        "colab": {
          "base_uri": "https://localhost:8080/"
        },
        "id": "dnTQqhq-tqaq",
        "outputId": "433a8017-4fbd-44a4-f717-01eb19aba1a0"
      },
      "outputs": [
        {
          "name": "stdout",
          "output_type": "stream",
          "text": [
            "Test Accuracy: 0.7763\n"
          ]
        }
      ],
      "source": [
        "from torch.optim.lr_scheduler import ReduceLROnPlateau\n",
        "\n",
        "class SimpleBinaryClassifier(nn.Module):\n",
        "    def __init__(self):\n",
        "        super(SimpleBinaryClassifier, self).__init__()\n",
        "        self.dropouts = nn.Dropout(0.3)\n",
        "        self.input_layer = nn.Linear(7, 128)   # input layer to hidden layer 1\n",
        "        self.hidden_layer1 = nn.Linear(128, 128)  # hidden layer 1 to hidden layer 2\n",
        "        self.hidden_layer2 = nn.Linear(128, 64)    # hidden layer 2 to hidden layer 3\n",
        "        self.hidden_layer3 = nn.Linear(64,1) # hidden layer 2 to output layer\n",
        "        self.activation1 = nn.ELU()          # activation function for hidden layers   (base setup)\n",
        "        self.activation2 = nn.ELU()        # activation function for hidden layers\n",
        "        self.activation3 = nn.Sigmoid()    # activation function for output layer   (base setup)\n",
        "        # weights initiallization \n",
        "        nn.init.xavier_uniform_(self.input_layer.weight)\n",
        "        nn.init.xavier_uniform_(self.hidden_layer1.weight)\n",
        "        nn.init.xavier_uniform_(self.hidden_layer2.weight)\n",
        "        nn.init.xavier_uniform_(self.hidden_layer3.weight)\n",
        "        \n",
        "    def forward(self, x):\n",
        "        x = self.activation1(self.input_layer(x))\n",
        "        x = self.dropouts(x)\n",
        "        x = self.activation2(self.hidden_layer1(x))\n",
        "        x = self.dropouts(x)\n",
        "        x = self.activation2(self.hidden_layer2(x))\n",
        "        x = self.dropouts(x)\n",
        "        x = self.activation3(self.hidden_layer3(x))\n",
        "        return x\n",
        "\n",
        "train_dataset = TensorDataset(torch.from_numpy(X_train).float(), torch.from_numpy(y_train.values.reshape(-1, 1)).float())\n",
        "test_dataset = TensorDataset(torch.from_numpy(X_test).float(), torch.from_numpy(y_test.values.reshape(-1, 1)).float())\n",
        "train_loader = DataLoader(train_dataset, batch_size=32, shuffle=True)  # batch size tune\n",
        "test_loader = DataLoader(test_dataset, batch_size=32)\n",
        "\n",
        "\n",
        "# Define loss function and optimizer\n",
        "# https://pytorch.org/docs/stable/nn.html#loss-functions\n",
        "model_15 = SimpleBinaryClassifier()\n",
        "criterion = nn.BCELoss()\n",
        "optimizer = optim.Adam(params=model_15.parameters(),lr=0.001)\n",
        "scheduler = ReduceLROnPlateau(optimizer, mode='min', factor=0.1, patience=5) #scheduler call\n",
        "\n",
        "# Train the model\n",
        "epochs = 50\n",
        "for epoch in range(epochs):\n",
        "    model_15.train()\n",
        "    running_loss = 0.0\n",
        "    for inputs, labels in train_loader:\n",
        "        # Forward pass\n",
        "        outputs = model_15(inputs)\n",
        "        loss = criterion(outputs, labels)\n",
        "        # Backward and optimize\n",
        "        optimizer.zero_grad()\n",
        "        loss.backward()\n",
        "        # nn.utils.clip_grad_norm_(model.parameters(), max_norm=1.0)  #gradient clipping \n",
        "\n",
        "        optimizer.step()\n",
        "        running_loss += loss.item()\n",
        "        scheduler.step(loss)\n",
        "    \n",
        "    # Print training loss at each epoch\n",
        "    # print(f'Epoch {epoch+1}/{epochs}, Loss: {running_loss/len(train_loader):.4f}')\n",
        "\n",
        "# Evaluate the model on test data\n",
        "with torch.no_grad():\n",
        "    model_15.eval()\n",
        "    correct = 0\n",
        "    total = 0\n",
        "    for inputs, labels in test_loader:\n",
        "        # Forward pass\n",
        "        outputs = model_15(inputs)\n",
        "        predicted_labels = (outputs >= 0.5).int()\n",
        "        total += labels.size(0)\n",
        "        correct += (predicted_labels == labels).sum().item()\n",
        "    accuracy = correct / total\n",
        "    print(f'Test Accuracy: {accuracy:.4f}')"
      ]
    },
    {
      "cell_type": "code",
      "execution_count": 191,
      "metadata": {
        "id": "g5AmAMVuvtz-"
      },
      "outputs": [],
      "source": [
        "# Save the model weights\n",
        "torch.save(model_15.state_dict(), r'sungjun_abhinav_assignment2_part1.h5')"
      ]
    },
    {
      "cell_type": "markdown",
      "metadata": {
        "id": "VCNwqEyUvxRl"
      },
      "source": [
        "# cyclic Learning rate scheduler\n",
        "# Model_16"
      ]
    },
    {
      "cell_type": "code",
      "execution_count": 200,
      "metadata": {
        "colab": {
          "base_uri": "https://localhost:8080/"
        },
        "id": "ubvkWdlPwC8R",
        "outputId": "6746b9f7-7023-4de8-9d4e-e3602dba00e5"
      },
      "outputs": [
        {
          "name": "stdout",
          "output_type": "stream",
          "text": [
            "Test Accuracy: 0.7500\n"
          ]
        }
      ],
      "source": [
        "from torch.optim.lr_scheduler import CyclicLR\n",
        "\n",
        "class SimpleBinaryClassifier(nn.Module):\n",
        "    def __init__(self):\n",
        "        super(SimpleBinaryClassifier, self).__init__()\n",
        "        self.dropouts = nn.Dropout(0.3)\n",
        "        self.input_layer = nn.Linear(7, 128)   # input layer to hidden layer 1\n",
        "        self.hidden_layer1 = nn.Linear(128, 128)  # hidden layer 1 to hidden layer 2\n",
        "        self.hidden_layer2 = nn.Linear(128, 64)    # hidden layer 2 to hidden layer 3\n",
        "        self.hidden_layer3 = nn.Linear(64,1) # hidden layer 2 to output layer\n",
        "        self.activation1 = nn.ELU()          # activation function for hidden layers   (base setup)\n",
        "        self.activation2 = nn.ELU()        # activation function for hidden layers\n",
        "        self.activation3 = nn.Sigmoid()    # activation function for output layer   (base setup)\n",
        "        # weights initiallization \n",
        "        nn.init.xavier_uniform_(self.input_layer.weight)\n",
        "        nn.init.xavier_uniform_(self.hidden_layer1.weight)\n",
        "        nn.init.xavier_uniform_(self.hidden_layer2.weight)\n",
        "        nn.init.xavier_uniform_(self.hidden_layer3.weight)\n",
        "        \n",
        "    def forward(self, x):\n",
        "        x = self.activation1(self.input_layer(x))\n",
        "        x = self.dropouts(x)\n",
        "        x = self.activation2(self.hidden_layer1(x))\n",
        "        x = self.dropouts(x)\n",
        "        x = self.activation2(self.hidden_layer2(x))\n",
        "        x = self.dropouts(x)\n",
        "        x = self.activation3(self.hidden_layer3(x))\n",
        "        return x\n",
        "\n",
        "train_dataset = TensorDataset(torch.from_numpy(X_train).float(), torch.from_numpy(y_train.values.reshape(-1, 1)).float())\n",
        "test_dataset = TensorDataset(torch.from_numpy(X_test).float(), torch.from_numpy(y_test.values.reshape(-1, 1)).float())\n",
        "train_loader = DataLoader(train_dataset, batch_size=32, shuffle=True)  # batch size tune\n",
        "test_loader = DataLoader(test_dataset, batch_size=32)\n",
        "\n",
        "\n",
        "model_16 = SimpleBinaryClassifier()\n",
        "criterion = nn.BCELoss()\n",
        "optimizer = optim.SGD(params=model_16.parameters(),lr=0.001)\n",
        "scheduler = torch.optim.lr_scheduler.CyclicLR(optimizer, base_lr=0.001, max_lr=0.1, mode='triangular')\n",
        "\n",
        "# Train the model\n",
        "epochs = 50\n",
        "for epoch in range(epochs):\n",
        "    model_16.train()\n",
        "    running_loss = 0.0\n",
        "    for inputs, labels in train_loader:\n",
        "        # Forward pass\n",
        "        outputs = model_16(inputs)\n",
        "        loss = criterion(outputs, labels)\n",
        "        # Backward and optimize\n",
        "        optimizer.zero_grad()\n",
        "        loss.backward()\n",
        "        optimizer.step()\n",
        "        running_loss += loss.item()\n",
        "        scheduler.step(loss)\n",
        "    \n",
        "  \n",
        "\n",
        "# Evaluate the model on test data\n",
        "with torch.no_grad():\n",
        "    model_16.eval()\n",
        "    correct = 0\n",
        "    total = 0\n",
        "    for inputs, labels in test_loader:\n",
        "        # Forward pass\n",
        "        outputs = model_16(inputs)\n",
        "        predicted_labels = (outputs >= 0.5).int()\n",
        "        total += labels.size(0)\n",
        "        correct += (predicted_labels == labels).sum().item()\n",
        "    accuracy = correct / total\n",
        "    print(f'Test Accuracy: {accuracy:.4f}')"
      ]
    },
    {
      "cell_type": "code",
      "execution_count": 124,
      "metadata": {
        "id": "5Sm9BAUp1QoL"
      },
      "outputs": [],
      "source": [
        "# Save the model weights\n",
        "torch.save(model_16.state_dict(), r'sungjun_abhinav_assignment2_part1.h5')"
      ]
    },
    {
      "cell_type": "markdown",
      "metadata": {
        "id": "-k9PbkeD1USr"
      },
      "source": [
        "# Graph"
      ]
    },
    {
      "cell_type": "code",
      "execution_count": 215,
      "metadata": {
        "colab": {
          "base_uri": "https://localhost:8080/",
          "height": 472
        },
        "id": "Ztf9xXHy4Bty",
        "outputId": "2127804f-2ea0-4ce0-c5aa-fc024fdc26da"
      },
      "outputs": [
        {
          "data": {
            "image/png": "[encoded data removed]",
            "text/plain": [
              "<Figure size 640x480 with 1 Axes>"
            ]
          },
          "metadata": {},
          "output_type": "display_data"
        }
      ],
      "source": [
        "import matplotlib.pyplot as plt\n",
        "import seaborn as sns\n",
        "\n",
        "acc_list = [0.7763,0.75,0.7632,0.7566,0.7566,0.7763]\n",
        "names_list = [\"LLR\",\"CRS\",\"Batch Normalization\",\"Gradient Clipping\",\"kaiming initiallization\",\"LeakyRELU\"]\n",
        "\n",
        "sns.barplot(y=names_list,x=acc_list)\n",
        "sns.color_palette(\"pastel\")\n",
        "plt.xlabel(\"Accuracy\")\n",
        "plt.ylabel(\"Methods\")\n",
        "plt.title(\"Different comparision of methods/models\")\n",
        "plt.show()"
      ]
    }
  ],
  "metadata": {
    "colab": {
      "provenance": []
    },
    "kernelspec": {
      "display_name": "Python 3 (ipykernel)",
      "language": "python",
      "name": "python3"
    },
    "language_info": {
      "codemirror_mode": {
        "name": "ipython",
        "version": 3
      },
      "file_extension": ".py",
      "mimetype": "text/x-python",
      "name": "python",
      "nbconvert_exporter": "python",
      "pygments_lexer": "ipython3",
      "version": "3.9.7"
    }
  },
  "nbformat": 4,
  "nbformat_minor": 0
}
