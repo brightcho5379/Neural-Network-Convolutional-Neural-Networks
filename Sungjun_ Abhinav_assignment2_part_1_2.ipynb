{
 "cells": [
  {
   "cell_type": "code",
   "execution_count": 237,
   "metadata": {},
   "outputs": [],
   "source": [
    "import os\n",
    "import pandas as pd\n",
    "from sklearn.preprocessing import OneHotEncoder, StandardScaler\n",
    "from sklearn.model_selection import train_test_split\n",
    "from torch.utils.data import DataLoader\n",
    "from torchvision import datasets, transforms\n",
    "import torch\n",
    "\n",
    "# Load dataset\n",
    "df = pd.read_csv('dataset.csv')\n",
    "df = df.apply(lambda x: pd.to_numeric(x, errors='coerce')).dropna()\n",
    "X = df.drop('target', axis=1)\n",
    "y = df['target']\n",
    "# print(X.dtypes)\n",
    "# print(y.dtypes)\n",
    "\n",
    "# Scale numerical features using StandardScaler\n",
    "scaler = StandardScaler()\n",
    "X = scaler.fit_transform(X)\n",
    "X_train, X_test, y_train, y_test = train_test_split(X, y, test_size=0.2, random_state=42)\n",
    "# print(type(X_train),type(X_test),type(y_train),type(y_test))"
   ]
  },
  {
   "cell_type": "code",
   "execution_count": 238,
   "metadata": {},
   "outputs": [],
   "source": [
    "import torch.nn as nn\n",
    "\n",
    "class SimpleBinaryClassifier(nn.Module):\n",
    "    def __init__(self):\n",
    "        super(SimpleBinaryClassifier, self).__init__()\n",
    "        self.input_layer = nn.Linear(7, 128)   # input layer to hidden layer 1\n",
    "        self.hidden_layer1 = nn.Linear(128, 128)  # hidden layer 1 to hidden layer 2\n",
    "        self.hidden_layer2 = nn.Linear(128, 64)    # hidden layer 2 to hidden layer 3\n",
    "        self.hidden_layer3 = nn.Linear(64,1) # hidden layer 2 to output layer\n",
    "        self.activation1 = nn.ReLU()          # activation function for hidden layers\n",
    "        self.activation2 = nn.ReLU()          # activation function for hidden layers\n",
    "        self.activation3 = nn.Sigmoid()    # activation function for output layer\n",
    "        \n",
    "    def forward(self, x):\n",
    "        x = self.activation1(self.input_layer(x))\n",
    "        x = self.activation2(self.hidden_layer1(x))\n",
    "        x = self.activation2(self.hidden_layer2(x))\n",
    "        x = self.activation3(self.hidden_layer3(x))\n",
    "        return x\n"
   ]
  },
  {
   "cell_type": "code",
   "execution_count": 245,
   "metadata": {},
   "outputs": [
    {
     "name": "stdout",
     "output_type": "stream",
     "text": [
      "Test Accuracy: 0.7697\n"
     ]
    }
   ],
   "source": [
    "import torch.optim as optim\n",
    "from torch.utils.data import DataLoader, TensorDataset\n",
    "\n",
    "\n",
    "train_dataset = TensorDataset(torch.from_numpy(X_train).float(), torch.from_numpy(y_train.values.reshape(-1, 1)).float())\n",
    "test_dataset = TensorDataset(torch.from_numpy(X_test).float(), torch.from_numpy(y_test.values.reshape(-1, 1)).float())\n",
    "train_loader = DataLoader(train_dataset, batch_size=32, shuffle=True)\n",
    "test_loader = DataLoader(test_dataset, batch_size=32)\n",
    "\n",
    "\n",
    "# Define loss function and optimizer\n",
    "# https://pytorch.org/docs/stable/nn.html#loss-functions\n",
    "model = SimpleBinaryClassifier()\n",
    "criterion = nn.BCELoss()\n",
    "optimizer = optim.SGD(model.parameters(), lr=0.01)\n",
    "\n",
    "# Train the model\n",
    "epochs = 50\n",
    "for epoch in range(epochs):\n",
    "    running_loss = 0.0\n",
    "    for inputs, labels in train_loader:\n",
    "        # Forward pass\n",
    "        outputs = model(inputs)\n",
    "        loss = criterion(outputs, labels)\n",
    "        # Backward and optimize\n",
    "        optimizer.zero_grad()\n",
    "        loss.backward()\n",
    "        optimizer.step()\n",
    "        running_loss += loss.item()\n",
    "    \n",
    "    # Print training loss at each epoch\n",
    "    # print(f'Epoch {epoch+1}/{epochs}, Loss: {running_loss/len(train_loader):.4f}')\n",
    "\n",
    "# Evaluate the model on test data\n",
    "with torch.no_grad():\n",
    "    correct = 0\n",
    "    total = 0\n",
    "    for inputs, labels in test_loader:\n",
    "        # Forward pass\n",
    "        outputs = model(inputs)\n",
    "        predicted_labels = (outputs >= 0.5).int()\n",
    "        total += labels.size(0)\n",
    "        correct += (predicted_labels == labels).sum().item()\n",
    "    accuracy = correct / total\n",
    "    print(f'Test Accuracy: {accuracy:.4f}')\n",
    "\n",
    "# Save the model weights\n",
    "torch.save(model.state_dict(), 'sungjun_abhinav_assignment2_part1.h5')"
   ]
  }
 ],
 "metadata": {
  "kernelspec": {
   "display_name": "base",
   "language": "python",
   "name": "python3"
  },
  "language_info": {
   "codemirror_mode": {
    "name": "ipython",
    "version": 3
   },
   "file_extension": ".py",
   "mimetype": "text/x-python",
   "name": "python",
   "nbconvert_exporter": "python",
   "pygments_lexer": "ipython3",
   "version": "3.9.13"
  },
  "orig_nbformat": 4,
  "vscode": {
   "interpreter": {
    "hash": "d8f53876d2198310f0aee54cc58adc8d2aff7e02491be081c4f4fe6e26052469"
   }
  }
 },
 "nbformat": 4,
 "nbformat_minor": 2
}
